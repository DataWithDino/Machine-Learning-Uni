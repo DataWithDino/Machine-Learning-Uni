{
 "cells": [
  {
   "cell_type": "markdown",
   "metadata": {},
   "source": [
    "# Maschinelles Lernen\n",
    "# Aufgabenblatt 04 - Aufgabe 04\n",
    "# Prof. Dr. David Spieler"
   ]
  },
  {
   "cell_type": "code",
   "execution_count": null,
   "metadata": {
    "collapsed": true
   },
   "outputs": [],
   "source": [
    "import csv\n",
    "%matplotlib inline\n",
    "import matplotlib\n",
    "import matplotlib.pyplot as plot\n",
    "import numpy as np\n",
    "\n",
    "matplotlib.rcParams['figure.figsize'] = (14, 12)"
   ]
  },
  {
   "cell_type": "code",
   "execution_count": null,
   "metadata": {
    "collapsed": true
   },
   "outputs": [],
   "source": [
    "def load_data(filename):\n",
    "    \"\"\"\n",
    "    load a 2-d dataset with labels from a csv file\n",
    "    \"\"\"\n",
    "    with open(filename, 'r') as csvfile:\n",
    "        pointreader = csv.reader(csvfile, delimiter=',')\n",
    "        x1 = []\n",
    "        x2 = []\n",
    "        y = []\n",
    "        for row in pointreader:\n",
    "            x1.append(float(row[1]))\n",
    "            x2.append(float(row[2]))\n",
    "            y.append(-1.0 if float(row[0]) == -1.0 else 1.0)\n",
    "    return np.array(x1), np.array(x2), np.array(y)\n",
    "\n",
    "# load linearly seperable dataset https://github.com/cuekoo/Binary-classification-dataset\n",
    "x1, x2, y = load_data('data/linsep.csv')\n",
    "\n",
    "# shuffle data to prevent unwanted effects during learning\n",
    "s = np.arange(x1.shape[0])\n",
    "np.random.shuffle(s)\n",
    "x1 = x1[s]\n",
    "x2 = x2[s]\n",
    "y = y[s]"
   ]
  },
  {
   "cell_type": "markdown",
   "metadata": {},
   "source": [
    "# Überblick"
   ]
  },
  {
   "cell_type": "code",
   "execution_count": null,
   "metadata": {},
   "outputs": [],
   "source": [
    "plot.scatter(x1, x2, c=y, cmap=matplotlib.colors.ListedColormap(['red', 'blue']))"
   ]
  },
  {
   "cell_type": "markdown",
   "metadata": {},
   "source": [
    "# Implementierung"
   ]
  },
  {
   "cell_type": "code",
   "execution_count": null,
   "metadata": {
    "collapsed": true
   },
   "outputs": [],
   "source": [
    "def adaline_sum(x1, x2, w):\n",
    "    \"\"\"\n",
    "    compute the weighted sum w*x used for Adaline classification\n",
    "    \"\"\"\n",
    "    # todo\n",
    "    pass\n",
    "\n",
    "def adaline_classify(x1, x2, w):\n",
    "    \"\"\"\n",
    "    classify a 2-d data point [x1,x2]^T via the weights w=[w0,w1,w2]^T\n",
    "    \"\"\"\n",
    "    # todo\n",
    "    pass\n",
    "    \n",
    "def adaline_visualize(x1, x2, y, w):\n",
    "    \"\"\"\n",
    "    scatter plot the data points and add a plot of the decision surface\n",
    "    \"\"\"\n",
    "    plot.figure()\n",
    "    plot.scatter(x1, x2, c=y, cmap=matplotlib.colors.ListedColormap(['red', 'blue']))\n",
    "    plot.plot([x1.min(), x1.max()], [-(w[0] + w[1] * x1.min()) / w[2] , -(w[0] + w[1] * x1.max()) / w[2]])\n",
    "    \n",
    "def adaline_learn_step(x1, x2, y, w, eta):\n",
    "    \"\"\"\n",
    "    perform a full Adaline learning step over all data points [x1_i,x2_i]^T \n",
    "    with labels y_i, update the weights w accordingly with learning rate eta\n",
    "    and return the new weights\n",
    "    \"\"\"\n",
    "    # todo\n",
    "    pass\n",
    "\n",
    "def adaline_accuracy(x1, x2, y, w):\n",
    "    \"\"\"\n",
    "    compute the accuracy when applying the Adaline with weights w to all \n",
    "    data points [x1_i,x2_i]^T with labels y_i\n",
    "    \"\"\" \n",
    "    # todo\n",
    "    pass\n",
    "\n",
    "def adaline_learn(x1, x2, y, eta, gamma):\n",
    "    \"\"\"\n",
    "    implementation of the Adaline learning algorithm on data points \n",
    "    [x1_i,x2_i]^T with labels y_i, accuracy threshold gamma, and learning rate\n",
    "    eta; a visualization should be plotted every 20 iterations\n",
    "    \"\"\"\n",
    "    # todo\n",
    "    pass"
   ]
  },
  {
   "cell_type": "markdown",
   "metadata": {},
   "source": [
    "# Training"
   ]
  },
  {
   "cell_type": "code",
   "execution_count": null,
   "metadata": {},
   "outputs": [],
   "source": [
    "w = adaline_learn(x1, x2, y, 0.001, 1.0)"
   ]
  },
  {
   "cell_type": "code",
   "execution_count": null,
   "metadata": {},
   "outputs": [],
   "source": [
    "w"
   ]
  },
  {
   "cell_type": "code",
   "execution_count": null,
   "metadata": {
    "collapsed": true
   },
   "outputs": [],
   "source": []
  }
 ],
 "metadata": {
  "kernelspec": {
   "display_name": "Python 3",
   "language": "python",
   "name": "python3"
  },
  "language_info": {
   "codemirror_mode": {
    "name": "ipython",
    "version": 3
   },
   "file_extension": ".py",
   "mimetype": "text/x-python",
   "name": "python",
   "nbconvert_exporter": "python",
   "pygments_lexer": "ipython3",
   "version": "3.6.5"
  }
 },
 "nbformat": 4,
 "nbformat_minor": 1
}
