{
 "cells": [
  {
   "cell_type": "markdown",
   "metadata": {},
   "source": [
    "# Decision Trees"
   ]
  },
  {
   "cell_type": "markdown",
   "metadata": {},
   "source": [
    "## Aufgabe 7.1: Entscheidungsbäume\n",
    "Schritt 1: Erstellen eines Entscheidungsbaums nach dem Algorithmus in der Vorlesung mit Hilfe der Entropie als Unreinheitsmaß\n"
   ]
  },
  {
   "cell_type": "code",
   "execution_count": 11,
   "metadata": {},
   "outputs": [
    {
     "name": "stdout",
     "output_type": "stream",
     "text": [
      "|--- Temperatur_mild <= 0.50\n",
      "|   |--- Luftfeuchtigkeit_normal <= 0.50\n",
      "|   |   |--- class: nein\n",
      "|   |--- Luftfeuchtigkeit_normal >  0.50\n",
      "|   |   |--- Himmel_bewölkt <= 0.50\n",
      "|   |   |   |--- class: nein\n",
      "|   |   |--- Himmel_bewölkt >  0.50\n",
      "|   |   |   |--- class: ja\n",
      "|--- Temperatur_mild >  0.50\n",
      "|   |--- Himmel_frei <= 0.50\n",
      "|   |   |--- class: nein\n",
      "|   |--- Himmel_frei >  0.50\n",
      "|   |   |--- class: ja\n",
      "\n"
     ]
    }
   ],
   "source": [
    "import pandas as pd\n",
    "import numpy as np\n",
    "from sklearn.tree import DecisionTreeClassifier, export_text\n",
    "\n",
    "data = {\n",
    "    'Himmel': ['frei', 'frei', 'frei', 'bewölkt', 'bewölkt', 'bewölkt'],\n",
    "    'Temperatur': ['mild', 'mild', 'heiß', 'mild', 'heiß', 'heiß'],\n",
    "    'Luftfeuchtigkeit': ['normal', 'hoch', 'normal', 'hoch', 'normal', 'hoch'],\n",
    "    'Gehen': ['ja', 'ja', 'nein', 'nein', 'ja', 'nein']\n",
    "}\n",
    "\n",
    "# DataFrame erstellen\n",
    "df = pd.DataFrame(data)\n",
    "\n",
    "# Zielvektor y und Featurevektor X\n",
    "y = df['Gehen']\n",
    "X = df.drop(columns=['Gehen'])\n",
    "\n",
    "# Kategorische Daten in numerische Daten umwandeln\n",
    "X = pd.get_dummies(X)\n",
    "\n",
    "# Erstellen des Entscheidungsbaum-Modells mit Entropie\n",
    "model = DecisionTreeClassifier(criterion='entropy')\n",
    "model.fit(X, y)\n",
    "\n",
    "# Visualisierung des Entscheidungsbaums\n",
    "tree_rules = export_text(model, feature_names=list(X.columns))\n",
    "print(tree_rules)\n"
   ]
  },
  {
   "cell_type": "markdown",
   "metadata": {},
   "source": [
    "Schritt 2: Entscheidungsbaum für heiße Tage mit hoher Luftfeuchtigkeit und freiem Himmel"
   ]
  },
  {
   "cell_type": "code",
   "execution_count": 12,
   "metadata": {},
   "outputs": [],
   "source": [
    "# Funktion zur Erstellung des Test-Datasets mit korrekten Dummy-Variablen\n",
    "def create_test_data(himmel, temperatur, luftfeuchtigkeit):\n",
    "    test_data = pd.DataFrame({\n",
    "        'Himmel_frei': [1 if himmel == 'frei' else 0],\n",
    "        'Himmel_bewölkt': [1 if himmel == 'bewölkt' else 0],\n",
    "        'Temperatur_mild': [1 if temperatur == 'mild' else 0],\n",
    "        'Temperatur_heiß': [1 if temperatur == 'heiß' else 0],\n",
    "        'Luftfeuchtigkeit_normal': [1 if luftfeuchtigkeit == 'normal' else 0],\n",
    "        'Luftfeuchtigkeit_hoch': [1 if luftfeuchtigkeit == 'hoch' else 0]\n",
    "    })\n",
    "    return test_data[X.columns]"
   ]
  },
  {
   "cell_type": "code",
   "execution_count": 13,
   "metadata": {},
   "outputs": [
    {
     "name": "stdout",
     "output_type": "stream",
     "text": [
      "Sollten Sie an einem heißen Tag mit hoher Luftfeuchtigkeit und freiem Himmel wandern gehen?  nein\n"
     ]
    }
   ],
   "source": [
    "# Vorhersage für einen heißen Tag mit hoher Luftfeuchtigkeit und freiem Himmel\n",
    "test_data = create_test_data('frei', 'heiß', 'hoch')\n",
    "prediction = model.predict(test_data)\n",
    "print(\"Sollten Sie an einem heißen Tag mit hoher Luftfeuchtigkeit und freiem Himmel wandern gehen? \", prediction[0])"
   ]
  },
  {
   "cell_type": "markdown",
   "metadata": {},
   "source": [
    "Schritt 3: Entscheidungsbaum für milde Tage mit normaler Luftfeuchtigkeit und bewölktem Himmel"
   ]
  },
  {
   "cell_type": "code",
   "execution_count": 14,
   "metadata": {},
   "outputs": [
    {
     "name": "stdout",
     "output_type": "stream",
     "text": [
      "Sollten Sie an einem milden Tag mit normaler Luftfeuchtigkeit und bewölktem Himmel wandern gehen?  nein\n"
     ]
    }
   ],
   "source": [
    "# Vorhersage für einen milden Tag mit normaler Luftfeuchtigkeit und bewölktem Himmel\n",
    "test_data = create_test_data('bewölkt', 'mild', 'normal')\n",
    "prediction = model.predict(test_data)\n",
    "print(\"Sollten Sie an einem milden Tag mit normaler Luftfeuchtigkeit und bewölktem Himmel wandern gehen? \", prediction[0])"
   ]
  },
  {
   "cell_type": "markdown",
   "metadata": {},
   "source": [
    "## Aufgabe 7.2: Praxisbeispiel Entscheidungsbäume\n",
    "\n",
    "Schritt 1: Laden und Vorbereiten des Datensatzes "
   ]
  },
  {
   "cell_type": "code",
   "execution_count": 3,
   "metadata": {},
   "outputs": [
    {
     "name": "stderr",
     "output_type": "stream",
     "text": [
      "/var/folders/qw/6fhq4lyj0xndtnx7ywb3jwq00000gn/T/ipykernel_3593/3687452545.py:11: FutureWarning: errors='ignore' is deprecated and will raise in a future version. Use to_numeric without passing `errors` and catch exceptions explicitly instead\n",
      "  df = df.apply(pd.to_numeric, errors='ignore')\n"
     ]
    },
    {
     "data": {
      "text/html": [
       "<div>\n",
       "<style scoped>\n",
       "    .dataframe tbody tr th:only-of-type {\n",
       "        vertical-align: middle;\n",
       "    }\n",
       "\n",
       "    .dataframe tbody tr th {\n",
       "        vertical-align: top;\n",
       "    }\n",
       "\n",
       "    .dataframe thead th {\n",
       "        text-align: right;\n",
       "    }\n",
       "</style>\n",
       "<table border=\"1\" class=\"dataframe\">\n",
       "  <thead>\n",
       "    <tr style=\"text-align: right;\">\n",
       "      <th></th>\n",
       "      <th>mpg</th>\n",
       "      <th>cylinders</th>\n",
       "      <th>displacement</th>\n",
       "      <th>horsepower</th>\n",
       "      <th>weight</th>\n",
       "      <th>acceleration</th>\n",
       "      <th>year</th>\n",
       "      <th>origin</th>\n",
       "      <th>name</th>\n",
       "    </tr>\n",
       "  </thead>\n",
       "  <tbody>\n",
       "    <tr>\n",
       "      <th>0</th>\n",
       "      <td>18.0</td>\n",
       "      <td>8</td>\n",
       "      <td>307.0</td>\n",
       "      <td>130.0</td>\n",
       "      <td>3504</td>\n",
       "      <td>12.0</td>\n",
       "      <td>70</td>\n",
       "      <td>1</td>\n",
       "      <td>chevrolet chevelle malibu</td>\n",
       "    </tr>\n",
       "    <tr>\n",
       "      <th>1</th>\n",
       "      <td>15.0</td>\n",
       "      <td>8</td>\n",
       "      <td>350.0</td>\n",
       "      <td>165.0</td>\n",
       "      <td>3693</td>\n",
       "      <td>11.5</td>\n",
       "      <td>70</td>\n",
       "      <td>1</td>\n",
       "      <td>buick skylark 320</td>\n",
       "    </tr>\n",
       "    <tr>\n",
       "      <th>2</th>\n",
       "      <td>18.0</td>\n",
       "      <td>8</td>\n",
       "      <td>318.0</td>\n",
       "      <td>150.0</td>\n",
       "      <td>3436</td>\n",
       "      <td>11.0</td>\n",
       "      <td>70</td>\n",
       "      <td>1</td>\n",
       "      <td>plymouth satellite</td>\n",
       "    </tr>\n",
       "    <tr>\n",
       "      <th>3</th>\n",
       "      <td>16.0</td>\n",
       "      <td>8</td>\n",
       "      <td>304.0</td>\n",
       "      <td>150.0</td>\n",
       "      <td>3433</td>\n",
       "      <td>12.0</td>\n",
       "      <td>70</td>\n",
       "      <td>1</td>\n",
       "      <td>amc rebel sst</td>\n",
       "    </tr>\n",
       "    <tr>\n",
       "      <th>4</th>\n",
       "      <td>17.0</td>\n",
       "      <td>8</td>\n",
       "      <td>302.0</td>\n",
       "      <td>140.0</td>\n",
       "      <td>3449</td>\n",
       "      <td>10.5</td>\n",
       "      <td>70</td>\n",
       "      <td>1</td>\n",
       "      <td>ford torino</td>\n",
       "    </tr>\n",
       "  </tbody>\n",
       "</table>\n",
       "</div>"
      ],
      "text/plain": [
       "    mpg  cylinders  displacement  horsepower  weight  acceleration  year  \\\n",
       "0  18.0          8         307.0       130.0    3504          12.0    70   \n",
       "1  15.0          8         350.0       165.0    3693          11.5    70   \n",
       "2  18.0          8         318.0       150.0    3436          11.0    70   \n",
       "3  16.0          8         304.0       150.0    3433          12.0    70   \n",
       "4  17.0          8         302.0       140.0    3449          10.5    70   \n",
       "\n",
       "   origin                       name  \n",
       "0       1  chevrolet chevelle malibu  \n",
       "1       1          buick skylark 320  \n",
       "2       1         plymouth satellite  \n",
       "3       1              amc rebel sst  \n",
       "4       1                ford torino  "
      ]
     },
     "execution_count": 3,
     "metadata": {},
     "output_type": "execute_result"
    }
   ],
   "source": [
    "import pandas as pd\n",
    "import numpy as np\n",
    "\n",
    "\n",
    "# Laden des Datensatzes\n",
    "file_path = 'Auto.csv'\n",
    "df = pd.read_csv(file_path)\n",
    "\n",
    "# Ersetzen von '?' durch NaN und konvertieren der Daten in geeignete Typen\n",
    "df.replace('?', np.nan, inplace=True)\n",
    "df = df.apply(pd.to_numeric, errors='ignore')\n",
    "\n",
    "# Anzeigen der ersten Zeilen des Datensatzes, um einen Überblick zu bekommen\n",
    "df.head()"
   ]
  },
  {
   "cell_type": "markdown",
   "metadata": {},
   "source": [
    "## Schritt 2: Bereinigen des Datensatzes\n",
    "\n",
    "- Überprüfen auf fehlende Werte\n",
    "- Korrigieren oder Entfernen von fehlerhaften Daten"
   ]
  },
  {
   "cell_type": "code",
   "execution_count": 4,
   "metadata": {},
   "outputs": [
    {
     "name": "stdout",
     "output_type": "stream",
     "text": [
      "<class 'pandas.core.frame.DataFrame'>\n",
      "Index: 392 entries, 0 to 396\n",
      "Data columns (total 9 columns):\n",
      " #   Column        Non-Null Count  Dtype  \n",
      "---  ------        --------------  -----  \n",
      " 0   mpg           392 non-null    float64\n",
      " 1   cylinders     392 non-null    int64  \n",
      " 2   displacement  392 non-null    float64\n",
      " 3   horsepower    392 non-null    float64\n",
      " 4   weight        392 non-null    int64  \n",
      " 5   acceleration  392 non-null    float64\n",
      " 6   year          392 non-null    int64  \n",
      " 7   origin        392 non-null    int64  \n",
      " 8   name          392 non-null    object \n",
      "dtypes: float64(4), int64(4), object(1)\n",
      "memory usage: 30.6+ KB\n"
     ]
    }
   ],
   "source": [
    "# Überprüfen auf fehlende Werte\n",
    "df.isnull().sum()\n",
    "\n",
    "# Entfernen von Zeilen mit fehlenden Werten\n",
    "df = df.dropna()\n",
    "\n",
    "# Anzeigen der Dateninfo, um die Datentypen zu überprüfen\n",
    "df.info()"
   ]
  },
  {
   "cell_type": "markdown",
   "metadata": {},
   "source": [
    "## Schritt 3: Ziel- und Featurevektoren erstellen\n",
    "- Zielvektor y: Anzahl der Zylinder\n",
    "- Featurevektor X: Alle Features außer name und cylinders"
   ]
  },
  {
   "cell_type": "code",
   "execution_count": 5,
   "metadata": {},
   "outputs": [
    {
     "data": {
      "text/plain": [
       "(    mpg  displacement  horsepower  weight  acceleration  year  origin\n",
       " 0  18.0         307.0       130.0    3504          12.0    70       1\n",
       " 1  15.0         350.0       165.0    3693          11.5    70       1\n",
       " 2  18.0         318.0       150.0    3436          11.0    70       1\n",
       " 3  16.0         304.0       150.0    3433          12.0    70       1\n",
       " 4  17.0         302.0       140.0    3449          10.5    70       1,\n",
       " 0    8\n",
       " 1    8\n",
       " 2    8\n",
       " 3    8\n",
       " 4    8\n",
       " Name: cylinders, dtype: int64)"
      ]
     },
     "execution_count": 5,
     "metadata": {},
     "output_type": "execute_result"
    }
   ],
   "source": [
    "# Zielvektor y\n",
    "y = df['cylinders']\n",
    "\n",
    "# Featurevektor X\n",
    "X = df.drop(columns=['name', 'cylinders'])\n",
    "\n",
    "# Überprüfen der ersten Zeilen der Features und des Zielvektors\n",
    "X.head(), y.head()"
   ]
  },
  {
   "cell_type": "markdown",
   "metadata": {},
   "source": [
    "## Schritt 4: Trainieren des Entscheidungsbaummodells\n",
    "\n",
    "- Verwenden von sklearn.tree.DecisionTreeClassifier\n",
    "- Anwendung von 3-facher Kreuzvalidierung"
   ]
  },
  {
   "cell_type": "code",
   "execution_count": 6,
   "metadata": {},
   "outputs": [
    {
     "data": {
      "text/plain": [
       "0.9104521432765708"
      ]
     },
     "execution_count": 6,
     "metadata": {},
     "output_type": "execute_result"
    }
   ],
   "source": [
    "from sklearn.tree import DecisionTreeClassifier\n",
    "from sklearn.model_selection import cross_val_score\n",
    "\n",
    "# Erstellen des Modells\n",
    "model = DecisionTreeClassifier()\n",
    "\n",
    "# Anwenden der 3-fachen Kreuzvalidierung\n",
    "scores = cross_val_score(model, X, y, cv=3)\n",
    "\n",
    "# Ausgeben der Genauigkeit\n",
    "accuracy = scores.mean()\n",
    "accuracy"
   ]
  },
  {
   "cell_type": "code",
   "execution_count": null,
   "metadata": {},
   "outputs": [],
   "source": []
  }
 ],
 "metadata": {
  "kernelspec": {
   "display_name": "Python 3",
   "language": "python",
   "name": "python3"
  },
  "language_info": {
   "codemirror_mode": {
    "name": "ipython",
    "version": 3
   },
   "file_extension": ".py",
   "mimetype": "text/x-python",
   "name": "python",
   "nbconvert_exporter": "python",
   "pygments_lexer": "ipython3",
   "version": "3.9.6"
  }
 },
 "nbformat": 4,
 "nbformat_minor": 2
}
